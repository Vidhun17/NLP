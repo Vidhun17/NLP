{
 "cells": [
  {
   "cell_type": "code",
   "execution_count": 10,
   "id": "3135e64a",
   "metadata": {},
   "outputs": [
    {
     "name": "stderr",
     "output_type": "stream",
     "text": [
      "[nltk_data] Downloading package movie_reviews to\n",
      "[nltk_data]     C:\\Users\\GREEN\\AppData\\Roaming\\nltk_data...\n",
      "[nltk_data]   Package movie_reviews is already up-to-date!\n"
     ]
    },
    {
     "name": "stdout",
     "output_type": "stream",
     "text": [
      "Accuracy: 0.735\n",
      "Sentiment: Positive\n"
     ]
    }
   ],
   "source": [
    "import nltk\n",
    "from nltk.corpus import movie_reviews\n",
    "from nltk.classify import NaiveBayesClassifier\n",
    "from nltk.classify.util import accuracy\n",
    "\n",
    "# Download the Movie Reviews dataset if not already downloaded\n",
    "nltk.download('movie_reviews')\n",
    "\n",
    "# Feature extraction function\n",
    "def extract_features(words):\n",
    "    return dict([(word, True) for word in words])\n",
    "\n",
    "# Load the positive and negative re p\\\n",
    " views from the Movie Reviews dataset\n",
    "positive_reviews = [(extract_features(movie_reviews.words(fileids=[f])), 'Positive') for f in movie_reviews.fileids('pos')]\n",
    "negative_reviews = [(extract_features(movie_reviews.words(fileids=[f])), 'Negative') for f in movie_reviews.fileids('neg')]\n",
    "\n",
    "# Split the dataset into training and testing sets (80% train, 20% test)\n",
    "split_ratio = int(0.8 * len(positive_reviews))\n",
    "train_set = positive_reviews[:split_ratio] + negative_reviews[:split_ratio]\n",
    "test_set = positive_reviews[split_ratio:] + negative_reviews[split_ratio:]\n",
    "\n",
    "# Train a Naive Bayes classifier\n",
    "classifier = NaiveBayesClassifier.train(train_set)\n",
    "\n",
    "# Evaluate the classifier on the testing set\n",
    "accuracy_score = accuracy(classifier, test_set)\n",
    "print(\"Accuracy:\", accuracy_score)\n",
    "\n",
    "# Sample text for sentiment analysis\n",
    "text = \"This movie is mind blowing and Suitable for 13+\"\n",
    "\n",
    "# Perform sentiment analysis on the sample text\n",
    "features = extract_features(text.split())\n",
    "sentiment = classifier.classify(features)\n",
    "\n",
    "# Print the sentiment\n",
    "print(\"Sentiment:\", sentiment)\n"
   ]
  },
  {
   "cell_type": "code",
   "execution_count": null,
   "id": "e067938a",
   "metadata": {},
   "outputs": [],
   "source": []
  }
 ],
 "metadata": {
  "kernelspec": {
   "display_name": "Python 3 (ipykernel)",
   "language": "python",
   "name": "python3"
  },
  "language_info": {
   "codemirror_mode": {
    "name": "ipython",
    "version": 3
   },
   "file_extension": ".py",
   "mimetype": "text/x-python",
   "name": "python",
   "nbconvert_exporter": "python",
   "pygments_lexer": "ipython3",
   "version": "3.9.12"
  }
 },
 "nbformat": 4,
 "nbformat_minor": 5
}
